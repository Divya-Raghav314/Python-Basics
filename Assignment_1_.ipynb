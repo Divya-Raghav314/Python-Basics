{
  "nbformat": 4,
  "nbformat_minor": 0,
  "metadata": {
    "colab": {
      "provenance": []
    },
    "kernelspec": {
      "name": "python3",
      "display_name": "Python 3"
    },
    "language_info": {
      "name": "python"
    }
  },
  "cells": [
    {
      "cell_type": "code",
      "execution_count": null,
      "metadata": {
        "id": "xmV9jK-1SuQH"
      },
      "outputs": [],
      "source": [
        "#Python Basics Questions"
      ]
    },
    {
      "cell_type": "markdown",
      "source": [
        "#1. What is Python, and why is it popular?\n",
        "Ans Phyton is a versatile, high level programming language known for its readibility and ease of use.\n",
        "It is popular because of following points:\n",
        "1.Easy to learn and use.\n",
        "2.Versatile and general purpose\n",
        "3.Massive ecosystem and libraries\n",
        "4.Strong industry adoption\n",
        "\n",
        "#2. What is an interpreter in Python?\n",
        "Ans An interpreter is a program that reads and executes code line by line, converting the high-level Python code into machine-level instructions that the computer can understand.\n",
        "\n",
        "#3. What are pre-defined keywords in Python?\n",
        "Ans  Pre-defined keywords in Python are reserved wordsthat have special meaning.\n",
        "Python uses them to define the syntax and structure of the code.\n",
        "\n",
        "#4. Can keywords be used as variable names?\n",
        "Ans  No, keywords cannot be used as variable names in Python.\n",
        "\n",
        "#5. What is mutability in Python?\n",
        "Ans Mutability in python means item cannot be changed after its creation.\n",
        "\n",
        "#6. Why are lists mutable, but tuples are immutable?\n",
        "Ans List are mutable because they are designed to store items which can be changes or modify later.\n",
        "Tuples are immutable because they are designed to store items which cannot be changed or modeify after its creation.\n",
        "\n",
        "#7. What is the difference between “==” and “is” operators in Python?\n",
        "Ans \"==\" Equality operator\n",
        "     It check if values are equals and compare the value of two variables.\n",
        "while on the other hand\n",
        "\"is\" (Identity Operator)\n",
        "It checks if two variables refers to an exact same object in memory. It compares the object identity, not just contents.\n",
        "\n",
        "#8. What are logical operators in Python ?\n",
        "Ans It is used to combine and compare boolean expressions\n",
        " True and True == True\n",
        " True and False == False\n",
        " False and True == False\n",
        " False and False == True\n",
        "\n",
        " True or True == True\n",
        " True or False == True\n",
        " False or True == True\n",
        " False or False == False\n",
        "\n",
        "#9. What is type casting in Python?\n",
        " Ans It is a process of changing the type of one variable to another.\n",
        " Eg-\n",
        "    a = \"123\"    #string\n",
        "    int(a)\n",
        "    123\n",
        "\n",
        "#10. What is the difference between implicit and explicit type casting?\n",
        "Ans Implicit type casting -It means python automatically converts one type to another when needed, without doing any action.\n",
        "Eg- x= 4       #int\n",
        "    y = 5.6    #float\n",
        "    x+y\n",
        "    9.6        #float\n",
        "\n",
        "    Explicit type casting- It is a process when you manually converts the type of one variable to another.\n",
        "\n",
        "    Eg-\n",
        "    a = \"123\"    #string\n",
        "    int(a)\n",
        "    123\n",
        "\n",
        "#11. What is the purpose of conditional statements in Python?\n",
        "ANS Conditional statements let your code execute different blocks of code depending on whether a condition is true or false.\n",
        "\n",
        "#12. How does the elif statement work?\n",
        "ANS- Elif statement works to check multiple condition one by one after on \"if\" condition.\n",
        "Elif stands for else-if condition.\n",
        "\n",
        "#13. What is the difference between for and while loops?\n",
        "Ans- \"For\" loop iterates over a sequence of element.\n",
        "    \"while\" loop are used for execution of code until a specified condition becomes false.\n",
        "\n",
        "#14. Describe a scenario where a while loop is more suitable than a for loop?\n",
        "Ans- correct_password = \"python123\"\n",
        "user_input = input(\"Enter your password: \")\n",
        "\n",
        "while user_input != correct_password:\n",
        "    print(\"Incorrect password. Try again.\")\n",
        "    user_input = input(\"Enter your password: \")\n",
        "\n",
        "print(\"Access granted!\")\n",
        "\n",
        "\n",
        "\n"
      ],
      "metadata": {
        "id": "vGpY_uMoTOtO"
      }
    },
    {
      "cell_type": "code",
      "source": [
        "#PRACTICAL QUESTIONS\n",
        "#1.Write a Python program to print \"Hello, World!y\n",
        "print(\"Hello, World\")"
      ],
      "metadata": {
        "colab": {
          "base_uri": "https://localhost:8080/"
        },
        "id": "dAohsCwom0Q4",
        "outputId": "c3216d8c-f324-41ed-9879-1cdd970ee9f7"
      },
      "execution_count": null,
      "outputs": [
        {
          "output_type": "stream",
          "name": "stdout",
          "text": [
            "Hello, World\n"
          ]
        }
      ]
    },
    {
      "cell_type": "code",
      "source": [
        "#2. Write a Python program that displays your name and age?\n",
        "Name = input(\" enter your name\")\n",
        "Age = int(input(\" enter your age\"))\n",
        "print(f\"My name is {Name} and My age is {Age}\")"
      ],
      "metadata": {
        "colab": {
          "base_uri": "https://localhost:8080/"
        },
        "id": "bnJ5o_sHnJWM",
        "outputId": "e391a10a-a37e-4d5f-8d48-dccf0d00d750"
      },
      "execution_count": null,
      "outputs": [
        {
          "output_type": "stream",
          "name": "stdout",
          "text": [
            " enter your nameDivya\n",
            " enter your age24\n",
            "My name is Divya and My age is 24\n"
          ]
        }
      ]
    },
    {
      "cell_type": "code",
      "source": [
        "#3. Write code to print all the pre-defined keywords in Python using the keyword library.\n",
        "help(\"keywords\")"
      ],
      "metadata": {
        "colab": {
          "base_uri": "https://localhost:8080/"
        },
        "id": "nsvKz16BouVT",
        "outputId": "91884a71-3838-47dc-810f-e76e96a93d5d"
      },
      "execution_count": null,
      "outputs": [
        {
          "output_type": "stream",
          "name": "stdout",
          "text": [
            "\n",
            "Here is a list of the Python keywords.  Enter any keyword to get more help.\n",
            "\n",
            "False               class               from                or\n",
            "None                continue            global              pass\n",
            "True                def                 if                  raise\n",
            "and                 del                 import              return\n",
            "as                  elif                in                  try\n",
            "assert              else                is                  while\n",
            "async               except              lambda              with\n",
            "await               finally             nonlocal            yield\n",
            "break               for                 not                 \n",
            "\n"
          ]
        }
      ]
    },
    {
      "cell_type": "code",
      "source": [
        "#4.Write a program that checks if a given word is a Python keyword.\n",
        "a = 43\n",
        "type(a) #checks given word is python keyword"
      ],
      "metadata": {
        "colab": {
          "base_uri": "https://localhost:8080/"
        },
        "id": "2YOzZqdQpevb",
        "outputId": "f62617b9-6a68-4c5f-efa2-a07e55d597db"
      },
      "execution_count": null,
      "outputs": [
        {
          "output_type": "execute_result",
          "data": {
            "text/plain": [
              "int"
            ]
          },
          "metadata": {},
          "execution_count": 15
        }
      ]
    },
    {
      "cell_type": "code",
      "source": [
        "#5. Create a list and tuple in Python, and demonstrate how attempting to change an element works differently for each\n",
        "list = [1, 2, 4.5, 6, True, \"apple\", \"banana\"]\n",
        "list[1] = \"mango\"\n",
        "list"
      ],
      "metadata": {
        "colab": {
          "base_uri": "https://localhost:8080/"
        },
        "id": "jKgV6YI0sAYs",
        "outputId": "4e0a7727-680d-4994-eeb7-1b2389963a66"
      },
      "execution_count": null,
      "outputs": [
        {
          "output_type": "execute_result",
          "data": {
            "text/plain": [
              "[1, 'mango', 4.5, 6, True, 'apple', 'banana']"
            ]
          },
          "metadata": {},
          "execution_count": 18
        }
      ]
    },
    {
      "cell_type": "code",
      "source": [
        "Tuple = (1, 4, 5, 6.7, \"Peas\", \"potato\", \"brinjal\", True, False)\n",
        "Tuple[2] = \"lady finger\" #tuple are immutable\n",
        "Tuple"
      ],
      "metadata": {
        "colab": {
          "base_uri": "https://localhost:8080/",
          "height": 182
        },
        "id": "TMJRCXMqseNZ",
        "outputId": "49a8504b-b839-4be6-b251-a528df693a5e"
      },
      "execution_count": null,
      "outputs": [
        {
          "output_type": "error",
          "ename": "TypeError",
          "evalue": "'tuple' object does not support item assignment",
          "traceback": [
            "\u001b[0;31m---------------------------------------------------------------------------\u001b[0m",
            "\u001b[0;31mTypeError\u001b[0m                                 Traceback (most recent call last)",
            "\u001b[0;32m<ipython-input-19-8e5db456d408>\u001b[0m in \u001b[0;36m<cell line: 0>\u001b[0;34m()\u001b[0m\n\u001b[1;32m      1\u001b[0m \u001b[0mTuple\u001b[0m \u001b[0;34m=\u001b[0m \u001b[0;34m(\u001b[0m\u001b[0;36m1\u001b[0m\u001b[0;34m,\u001b[0m \u001b[0;36m4\u001b[0m\u001b[0;34m,\u001b[0m \u001b[0;36m5\u001b[0m\u001b[0;34m,\u001b[0m \u001b[0;36m6.7\u001b[0m\u001b[0;34m,\u001b[0m \u001b[0;34m\"Peas\"\u001b[0m\u001b[0;34m,\u001b[0m \u001b[0;34m\"potato\"\u001b[0m\u001b[0;34m,\u001b[0m \u001b[0;34m\"brinjal\"\u001b[0m\u001b[0;34m,\u001b[0m \u001b[0;32mTrue\u001b[0m\u001b[0;34m,\u001b[0m \u001b[0;32mFalse\u001b[0m\u001b[0;34m)\u001b[0m\u001b[0;34m\u001b[0m\u001b[0;34m\u001b[0m\u001b[0m\n\u001b[0;32m----> 2\u001b[0;31m \u001b[0mTuple\u001b[0m\u001b[0;34m[\u001b[0m\u001b[0;36m2\u001b[0m\u001b[0;34m]\u001b[0m \u001b[0;34m=\u001b[0m \u001b[0;34m\"lady finger\"\u001b[0m\u001b[0;34m\u001b[0m\u001b[0;34m\u001b[0m\u001b[0m\n\u001b[0m\u001b[1;32m      3\u001b[0m \u001b[0mTuple\u001b[0m\u001b[0;34m\u001b[0m\u001b[0;34m\u001b[0m\u001b[0m\n",
            "\u001b[0;31mTypeError\u001b[0m: 'tuple' object does not support item assignment"
          ]
        }
      ]
    },
    {
      "cell_type": "code",
      "source": [
        " #6. Write a function to demonstrate the behavior of mutable and immutable arguments.\n",
        " #mutable arguements\n",
        " a = [1, 2, True, \"Divya\"]\n",
        " a[2] = False\n",
        " a"
      ],
      "metadata": {
        "colab": {
          "base_uri": "https://localhost:8080/"
        },
        "id": "08zOkwgatO4Q",
        "outputId": "8fa45d03-67ee-4ae3-961d-2c70cc0cf0b3"
      },
      "execution_count": null,
      "outputs": [
        {
          "output_type": "execute_result",
          "data": {
            "text/plain": [
              "[1, 2, False, 'Divya']"
            ]
          },
          "metadata": {},
          "execution_count": 20
        }
      ]
    },
    {
      "cell_type": "code",
      "source": [
        "#Immutable arguements\n",
        "b = (1, 2, False, \"Raghav\")\n",
        "b[2] = True\n",
        "b"
      ],
      "metadata": {
        "colab": {
          "base_uri": "https://localhost:8080/",
          "height": 200
        },
        "id": "tfA_QbTItsIp",
        "outputId": "a678204d-e9e3-43d4-d386-eb5c196c8a24"
      },
      "execution_count": null,
      "outputs": [
        {
          "output_type": "error",
          "ename": "TypeError",
          "evalue": "'tuple' object does not support item assignment",
          "traceback": [
            "\u001b[0;31m---------------------------------------------------------------------------\u001b[0m",
            "\u001b[0;31mTypeError\u001b[0m                                 Traceback (most recent call last)",
            "\u001b[0;32m<ipython-input-21-889484f11aa9>\u001b[0m in \u001b[0;36m<cell line: 0>\u001b[0;34m()\u001b[0m\n\u001b[1;32m      1\u001b[0m \u001b[0;31m#Immutable arguements\u001b[0m\u001b[0;34m\u001b[0m\u001b[0;34m\u001b[0m\u001b[0m\n\u001b[1;32m      2\u001b[0m \u001b[0mb\u001b[0m \u001b[0;34m=\u001b[0m \u001b[0;34m(\u001b[0m\u001b[0;36m1\u001b[0m\u001b[0;34m,\u001b[0m \u001b[0;36m2\u001b[0m\u001b[0;34m,\u001b[0m \u001b[0;32mFalse\u001b[0m\u001b[0;34m,\u001b[0m \u001b[0;34m\"Raghav\"\u001b[0m\u001b[0;34m)\u001b[0m\u001b[0;34m\u001b[0m\u001b[0;34m\u001b[0m\u001b[0m\n\u001b[0;32m----> 3\u001b[0;31m \u001b[0mb\u001b[0m\u001b[0;34m[\u001b[0m\u001b[0;36m2\u001b[0m\u001b[0;34m]\u001b[0m \u001b[0;34m=\u001b[0m \u001b[0;32mTrue\u001b[0m\u001b[0;34m\u001b[0m\u001b[0;34m\u001b[0m\u001b[0m\n\u001b[0m\u001b[1;32m      4\u001b[0m \u001b[0mb\u001b[0m\u001b[0;34m\u001b[0m\u001b[0;34m\u001b[0m\u001b[0m\n",
            "\u001b[0;31mTypeError\u001b[0m: 'tuple' object does not support item assignment"
          ]
        }
      ]
    },
    {
      "cell_type": "code",
      "source": [
        "#7. Write a program that performs basic arithmetic operations on two user-input numbers.\n",
        "abc = int(input(\"enter your number\"))\n",
        "efg = int(input(\"enter your number\"))\n",
        "abc+efg #Addition"
      ],
      "metadata": {
        "colab": {
          "base_uri": "https://localhost:8080/"
        },
        "id": "BeUd7NQnt8Ih",
        "outputId": "0396c985-5344-4aab-fa92-2d85e03eebbd"
      },
      "execution_count": null,
      "outputs": [
        {
          "name": "stdout",
          "output_type": "stream",
          "text": [
            "enter your number24\n",
            "enter your number48\n"
          ]
        },
        {
          "output_type": "execute_result",
          "data": {
            "text/plain": [
              "72"
            ]
          },
          "metadata": {},
          "execution_count": 22
        }
      ]
    },
    {
      "cell_type": "code",
      "source": [
        "#subtraction operator\n",
        "abc-efg"
      ],
      "metadata": {
        "colab": {
          "base_uri": "https://localhost:8080/"
        },
        "id": "V7h6tDt2uU0e",
        "outputId": "d1c80dee-bc13-41cb-f325-f88b6b010bd0"
      },
      "execution_count": null,
      "outputs": [
        {
          "output_type": "execute_result",
          "data": {
            "text/plain": [
              "-24"
            ]
          },
          "metadata": {},
          "execution_count": 23
        }
      ]
    },
    {
      "cell_type": "code",
      "source": [
        "#multiplication operator\n",
        "abc*efg"
      ],
      "metadata": {
        "colab": {
          "base_uri": "https://localhost:8080/"
        },
        "id": "WDRamqKMuZ0l",
        "outputId": "3d0d5ff7-cecd-461d-ab1e-d21fdc5e7202"
      },
      "execution_count": null,
      "outputs": [
        {
          "output_type": "execute_result",
          "data": {
            "text/plain": [
              "1152"
            ]
          },
          "metadata": {},
          "execution_count": 24
        }
      ]
    },
    {
      "cell_type": "code",
      "source": [
        "#Division operator\n",
        "efg/abc"
      ],
      "metadata": {
        "colab": {
          "base_uri": "https://localhost:8080/"
        },
        "id": "eRhHjkPsufzs",
        "outputId": "6c81fb40-75cb-4581-cbe2-46d037481ae9"
      },
      "execution_count": null,
      "outputs": [
        {
          "output_type": "execute_result",
          "data": {
            "text/plain": [
              "2.0"
            ]
          },
          "metadata": {},
          "execution_count": 25
        }
      ]
    },
    {
      "cell_type": "code",
      "source": [
        "#exponention operator\n",
        "abc**2"
      ],
      "metadata": {
        "colab": {
          "base_uri": "https://localhost:8080/"
        },
        "id": "8XXUH8UNuoJL",
        "outputId": "a672e73f-3394-41cd-80a5-f19b376fc46a"
      },
      "execution_count": null,
      "outputs": [
        {
          "output_type": "execute_result",
          "data": {
            "text/plain": [
              "576"
            ]
          },
          "metadata": {},
          "execution_count": 26
        }
      ]
    },
    {
      "cell_type": "code",
      "source": [
        "#Modulus operator\n",
        "abc % 2"
      ],
      "metadata": {
        "colab": {
          "base_uri": "https://localhost:8080/"
        },
        "id": "kWMvKPWAuwmb",
        "outputId": "e4a97360-a8fb-4cdd-81a9-28b748e6b826"
      },
      "execution_count": null,
      "outputs": [
        {
          "output_type": "execute_result",
          "data": {
            "text/plain": [
              "0"
            ]
          },
          "metadata": {},
          "execution_count": 28
        }
      ]
    },
    {
      "cell_type": "code",
      "source": [
        "#8. Write a program to demonstrate the use of logical operators.\n",
        "name = input(\"enter your name\")\n",
        "age = int(input(\"enter your age\"))\n",
        "if name == \"Divya\" and age == 24:\n",
        "  print(\"Welcome Divya\")\n",
        "else:\n",
        "  print(\"Access Denied\")\n"
      ],
      "metadata": {
        "colab": {
          "base_uri": "https://localhost:8080/"
        },
        "id": "HzlVSFQYu_Z0",
        "outputId": "84c4a258-ab8a-4b8a-8aad-55c16200b2d7"
      },
      "execution_count": null,
      "outputs": [
        {
          "output_type": "stream",
          "name": "stdout",
          "text": [
            "enter your nameDivya\n",
            "enter your age24\n",
            "Welcome Divya\n"
          ]
        }
      ]
    },
    {
      "cell_type": "code",
      "source": [
        "a = 24\n",
        "b = 24\n",
        "a==b and b==a"
      ],
      "metadata": {
        "colab": {
          "base_uri": "https://localhost:8080/"
        },
        "id": "Ebp_nBSFvuaM",
        "outputId": "45beac3c-9f90-4535-8a56-1cd8f049c024"
      },
      "execution_count": null,
      "outputs": [
        {
          "output_type": "execute_result",
          "data": {
            "text/plain": [
              "True"
            ]
          },
          "metadata": {},
          "execution_count": 30
        }
      ]
    },
    {
      "cell_type": "code",
      "source": [
        "a = 33\n",
        "b = 34\n",
        "a!=b or a==b"
      ],
      "metadata": {
        "colab": {
          "base_uri": "https://localhost:8080/"
        },
        "id": "3IgTqMBnv7DJ",
        "outputId": "dc53612e-c909-4faa-b428-cd7c2b02b0fc"
      },
      "execution_count": null,
      "outputs": [
        {
          "output_type": "execute_result",
          "data": {
            "text/plain": [
              "True"
            ]
          },
          "metadata": {},
          "execution_count": 32
        }
      ]
    },
    {
      "cell_type": "code",
      "source": [
        "#9. Write a Python program to convert user input from string to integer, float, and boolean types\n",
        "a = int(input(\"string\"))\n",
        "type(a)"
      ],
      "metadata": {
        "colab": {
          "base_uri": "https://localhost:8080/"
        },
        "id": "2OFBPSOawJd5",
        "outputId": "e0ad223c-a94a-4d9b-cbc2-443d92f25c80"
      },
      "execution_count": null,
      "outputs": [
        {
          "name": "stdout",
          "output_type": "stream",
          "text": [
            "string42\n"
          ]
        },
        {
          "output_type": "execute_result",
          "data": {
            "text/plain": [
              "int"
            ]
          },
          "metadata": {},
          "execution_count": 33
        }
      ]
    },
    {
      "cell_type": "code",
      "source": [
        "b = float(input(\"number\"))\n",
        "b"
      ],
      "metadata": {
        "colab": {
          "base_uri": "https://localhost:8080/"
        },
        "id": "0mOpS_fzwb_b",
        "outputId": "e41c6bce-456d-44c0-9e8a-6a4309c7fa63"
      },
      "execution_count": null,
      "outputs": [
        {
          "name": "stdout",
          "output_type": "stream",
          "text": [
            "number64\n"
          ]
        },
        {
          "output_type": "execute_result",
          "data": {
            "text/plain": [
              "64.0"
            ]
          },
          "metadata": {},
          "execution_count": 37
        }
      ]
    },
    {
      "cell_type": "code",
      "source": [
        "c = bool(input(\"enter\"))\n",
        "type(c)"
      ],
      "metadata": {
        "colab": {
          "base_uri": "https://localhost:8080/"
        },
        "id": "eOi7_Serwb-m",
        "outputId": "4692ac54-0fbe-4c91-8c13-f93e88f24550"
      },
      "execution_count": null,
      "outputs": [
        {
          "name": "stdout",
          "output_type": "stream",
          "text": [
            "enterTrue\n"
          ]
        },
        {
          "output_type": "execute_result",
          "data": {
            "text/plain": [
              "bool"
            ]
          },
          "metadata": {},
          "execution_count": 40
        }
      ]
    },
    {
      "cell_type": "code",
      "source": [
        "#10. Write code to demonstrate type casting with list elements.\n",
        "a = \"53\"\n",
        "b = 42\n",
        "int(a)+b"
      ],
      "metadata": {
        "colab": {
          "base_uri": "https://localhost:8080/"
        },
        "id": "OGaZqaJyxBeT",
        "outputId": "034e3597-ecb5-4ffd-9864-6ada3e0591b4"
      },
      "execution_count": null,
      "outputs": [
        {
          "output_type": "execute_result",
          "data": {
            "text/plain": [
              "95"
            ]
          },
          "metadata": {},
          "execution_count": 43
        }
      ]
    },
    {
      "cell_type": "code",
      "source": [
        "#11. Write a program that checks if a number is positive, negative, or zero\n",
        "number = -24\n",
        "if number > 0:\n",
        "  print(\"The number is positive\")\n",
        "elif number < 0:\n",
        "  print(\"The number is negative\")\n",
        "else:\n",
        "  print(\"The number is zero\")"
      ],
      "metadata": {
        "colab": {
          "base_uri": "https://localhost:8080/"
        },
        "id": "c0JqjADexVGK",
        "outputId": "95a717ba-139c-48dd-fc2b-3f53a2dc2674"
      },
      "execution_count": null,
      "outputs": [
        {
          "output_type": "stream",
          "name": "stdout",
          "text": [
            "The number is negative\n"
          ]
        }
      ]
    },
    {
      "cell_type": "code",
      "source": [
        "#12. Write a for loop to print numbers from 1 to 10.\n",
        "for num in range(1,11):\n",
        "  print(num)"
      ],
      "metadata": {
        "colab": {
          "base_uri": "https://localhost:8080/"
        },
        "id": "kfWgPet2yow6",
        "outputId": "714f0793-eb90-4a56-e442-c68bf10de39a"
      },
      "execution_count": null,
      "outputs": [
        {
          "output_type": "stream",
          "name": "stdout",
          "text": [
            "1\n",
            "2\n",
            "3\n",
            "4\n",
            "5\n",
            "6\n",
            "7\n",
            "8\n",
            "9\n",
            "10\n"
          ]
        }
      ]
    },
    {
      "cell_type": "code",
      "source": [
        " #13. Write a Python program to find the sum of all even numbers between 1 and 50\n",
        " eve_sum = 0\n",
        " for num in range(1,51):\n",
        "  if num % 2 == 0:\n",
        "    eve_sum += num\n",
        "print(\"The sum of all even numbers between 1 and 50 is \", eve_sum)"
      ],
      "metadata": {
        "colab": {
          "base_uri": "https://localhost:8080/"
        },
        "id": "Qu3gewYDy_Ga",
        "outputId": "7d1a1b74-4c10-4b68-86b1-efd039975243"
      },
      "execution_count": null,
      "outputs": [
        {
          "output_type": "stream",
          "name": "stdout",
          "text": [
            "The sum of all even numbers between 1 and 50 is  650\n"
          ]
        }
      ]
    },
    {
      "cell_type": "code",
      "source": [
        "#14. Write a program to reverse a string using a while loop.\n",
        "a = \"GOODDAY\"\n",
        "reverse_text = \"\"\n",
        "while len(a) > 0:\n",
        "  reverse_text += a[-1]\n",
        "  a = a[:-1]  # Corrected: remove the last character from a\n",
        "print(reverse_text) # Corrected: print the final reversed string outside the loop"
      ],
      "metadata": {
        "colab": {
          "base_uri": "https://localhost:8080/"
        },
        "id": "v8O3VZfX0zBK",
        "outputId": "dabf73d1-d13f-437f-8b79-1959729f40c5"
      },
      "execution_count": null,
      "outputs": [
        {
          "output_type": "stream",
          "name": "stdout",
          "text": [
            "YADDOOG\n"
          ]
        }
      ]
    },
    {
      "cell_type": "code",
      "source": [
        "#15.  Write a Python program to calculate the factorial of a number provided by the user using a while loop.\n",
        "X = 5\n",
        "i = 1\n",
        "factorial = 1\n",
        "while i <= X:\n",
        "  factorial*=i\n",
        "  i += 1\n",
        "print(f\"The fatorial of 5 is {factorial}\")"
      ],
      "metadata": {
        "colab": {
          "base_uri": "https://localhost:8080/"
        },
        "id": "FSXoovX44Ofe",
        "outputId": "a7467de4-3028-48f3-9c00-d3493e6443f4"
      },
      "execution_count": null,
      "outputs": [
        {
          "output_type": "stream",
          "name": "stdout",
          "text": [
            "The fatorial of 5 is 120\n"
          ]
        }
      ]
    }
  ]
}